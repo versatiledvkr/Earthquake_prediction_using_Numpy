{
 "cells": [
  {
   "cell_type": "markdown",
   "metadata": {},
   "source": [
    "# Earthquake Prediction using numpy\n",
    "## Author : D.Vamsi Krishnam Raju\n",
    "# License and copyrights\n",
    "MIT License\n",
    "\n",
    "Copyright (c) 2022 versatiledvkr\n",
    "\n",
    "Permission is hereby granted, free of charge, to any person obtaining a copy\n",
    "of this software and associated documentation files (the \"Software\"), to deal\n",
    "in the Software without restriction, including without limitation the rights\n",
    "to use, copy, modify, merge, publish, distribute, sublicense, and/or sell\n",
    "copies of the Software, and to permit persons to whom the Software is\n",
    "furnished to do so, subject to the following conditions:\n",
    "\n",
    "The above copyright notice and this permission notice shall be included in all\n",
    "copies or substantial portions of the Software.\n",
    "\n",
    "THE SOFTWARE IS PROVIDED \"AS IS\", WITHOUT WARRANTY OF ANY KIND, EXPRESS OR\n",
    "IMPLIED, INCLUDING BUT NOT LIMITED TO THE WARRANTIES OF MERCHANTABILITY,\n",
    "FITNESS FOR A PARTICULAR PURPOSE AND NONINFRINGEMENT. IN NO EVENT SHALL THE\n",
    "AUTHORS OR COPYRIGHT HOLDERS BE LIABLE FOR ANY CLAIM, DAMAGES OR OTHER\n",
    "LIABILITY, WHETHER IN AN ACTION OF CONTRACT, TORT OR OTHERWISE, ARISING FROM,\n",
    "OUT OF OR IN CONNECTION WITH THE SOFTWARE OR THE USE OR OTHER DEALINGS IN THE\n",
    "SOFTWARE."
   ]
  },
  {
   "cell_type": "markdown",
   "metadata": {},
   "source": [
    "## Import libraries\n"
   ]
  },
  {
   "cell_type": "code",
   "execution_count": 4,
   "metadata": {},
   "outputs": [],
   "source": [
    "import pandas as pd\n",
    "import numpy as np\n",
    "import matplotlib.pyplot as plt"
   ]
  },
  {
   "cell_type": "markdown",
   "metadata": {},
   "source": [
    "## Data Pre-processing"
   ]
  },
  {
   "cell_type": "code",
   "execution_count": 2,
   "metadata": {},
   "outputs": [],
   "source": [
    "# read the data from dataset\n",
    "earthquake_data = pd.read_excel('Earthquake.xlsx')\n"
   ]
  },
  {
   "cell_type": "code",
   "execution_count": 5,
   "metadata": {},
   "outputs": [
    {
     "data": {
      "text/html": [
       "<div>\n",
       "<style scoped>\n",
       "    .dataframe tbody tr th:only-of-type {\n",
       "        vertical-align: middle;\n",
       "    }\n",
       "\n",
       "    .dataframe tbody tr th {\n",
       "        vertical-align: top;\n",
       "    }\n",
       "\n",
       "    .dataframe thead th {\n",
       "        text-align: right;\n",
       "    }\n",
       "</style>\n",
       "<table border=\"1\" class=\"dataframe\">\n",
       "  <thead>\n",
       "    <tr style=\"text-align: right;\">\n",
       "      <th></th>\n",
       "      <th>Year</th>\n",
       "      <th>Sunspots</th>\n",
       "    </tr>\n",
       "  </thead>\n",
       "  <tbody>\n",
       "    <tr>\n",
       "      <th>0</th>\n",
       "      <td>1701</td>\n",
       "      <td>8.3</td>\n",
       "    </tr>\n",
       "    <tr>\n",
       "      <th>1</th>\n",
       "      <td>1702</td>\n",
       "      <td>18.3</td>\n",
       "    </tr>\n",
       "    <tr>\n",
       "      <th>2</th>\n",
       "      <td>1703</td>\n",
       "      <td>26.7</td>\n",
       "    </tr>\n",
       "    <tr>\n",
       "      <th>3</th>\n",
       "      <td>1704</td>\n",
       "      <td>38.3</td>\n",
       "    </tr>\n",
       "    <tr>\n",
       "      <th>4</th>\n",
       "      <td>1705</td>\n",
       "      <td>60.0</td>\n",
       "    </tr>\n",
       "  </tbody>\n",
       "</table>\n",
       "</div>"
      ],
      "text/plain": [
       "   Year  Sunspots\n",
       "0  1701       8.3\n",
       "1  1702      18.3\n",
       "2  1703      26.7\n",
       "3  1704      38.3\n",
       "4  1705      60.0"
      ]
     },
     "execution_count": 5,
     "metadata": {},
     "output_type": "execute_result"
    }
   ],
   "source": [
    "earthquake_data.head()"
   ]
  },
  {
   "cell_type": "markdown",
   "metadata": {},
   "source": [
    "## Fourier transform of the sunspot data"
   ]
  },
  {
   "cell_type": "code",
   "execution_count": 6,
   "metadata": {},
   "outputs": [],
   "source": [
    "A = np.fft.fft(np.array(earthquake_data['Sunspots']))"
   ]
  },
  {
   "cell_type": "markdown",
   "metadata": {},
   "source": [
    "## Size of an array "
   ]
  },
  {
   "cell_type": "code",
   "execution_count": 11,
   "metadata": {},
   "outputs": [
    {
     "data": {
      "text/plain": [
       "319"
      ]
     },
     "execution_count": 11,
     "metadata": {},
     "output_type": "execute_result"
    }
   ],
   "source": [
    "sample = earthquake_data['Sunspots']\n",
    "n= sample.size\n",
    "n"
   ]
  },
  {
   "cell_type": "markdown",
   "metadata": {},
   "source": [
    "## Frequency of given data"
   ]
  },
  {
   "cell_type": "code",
   "execution_count": 10,
   "metadata": {},
   "outputs": [
    {
     "data": {
      "text/plain": [
       "array([ 0.        ,  0.0031348 ,  0.00626959,  0.00940439,  0.01253918,\n",
       "        0.01567398,  0.01880878,  0.02194357,  0.02507837,  0.02821317,\n",
       "        0.03134796,  0.03448276,  0.03761755,  0.04075235,  0.04388715,\n",
       "        0.04702194,  0.05015674,  0.05329154,  0.05642633,  0.05956113,\n",
       "        0.06269592,  0.06583072,  0.06896552,  0.07210031,  0.07523511,\n",
       "        0.07836991,  0.0815047 ,  0.0846395 ,  0.08777429,  0.09090909,\n",
       "        0.09404389,  0.09717868,  0.10031348,  0.10344828,  0.10658307,\n",
       "        0.10971787,  0.11285266,  0.11598746,  0.11912226,  0.12225705,\n",
       "        0.12539185,  0.12852665,  0.13166144,  0.13479624,  0.13793103,\n",
       "        0.14106583,  0.14420063,  0.14733542,  0.15047022,  0.15360502,\n",
       "        0.15673981,  0.15987461,  0.1630094 ,  0.1661442 ,  0.169279  ,\n",
       "        0.17241379,  0.17554859,  0.17868339,  0.18181818,  0.18495298,\n",
       "        0.18808777,  0.19122257,  0.19435737,  0.19749216,  0.20062696,\n",
       "        0.20376176,  0.20689655,  0.21003135,  0.21316614,  0.21630094,\n",
       "        0.21943574,  0.22257053,  0.22570533,  0.22884013,  0.23197492,\n",
       "        0.23510972,  0.23824451,  0.24137931,  0.24451411,  0.2476489 ,\n",
       "        0.2507837 ,  0.2539185 ,  0.25705329,  0.26018809,  0.26332288,\n",
       "        0.26645768,  0.26959248,  0.27272727,  0.27586207,  0.27899687,\n",
       "        0.28213166,  0.28526646,  0.28840125,  0.29153605,  0.29467085,\n",
       "        0.29780564,  0.30094044,  0.30407524,  0.30721003,  0.31034483,\n",
       "        0.31347962,  0.31661442,  0.31974922,  0.32288401,  0.32601881,\n",
       "        0.32915361,  0.3322884 ,  0.3354232 ,  0.33855799,  0.34169279,\n",
       "        0.34482759,  0.34796238,  0.35109718,  0.35423197,  0.35736677,\n",
       "        0.36050157,  0.36363636,  0.36677116,  0.36990596,  0.37304075,\n",
       "        0.37617555,  0.37931034,  0.38244514,  0.38557994,  0.38871473,\n",
       "        0.39184953,  0.39498433,  0.39811912,  0.40125392,  0.40438871,\n",
       "        0.40752351,  0.41065831,  0.4137931 ,  0.4169279 ,  0.4200627 ,\n",
       "        0.42319749,  0.42633229,  0.42946708,  0.43260188,  0.43573668,\n",
       "        0.43887147,  0.44200627,  0.44514107,  0.44827586,  0.45141066,\n",
       "        0.45454545,  0.45768025,  0.46081505,  0.46394984,  0.46708464,\n",
       "        0.47021944,  0.47335423,  0.47648903,  0.47962382,  0.48275862,\n",
       "        0.48589342,  0.48902821,  0.49216301,  0.49529781,  0.4984326 ,\n",
       "       -0.4984326 , -0.49529781, -0.49216301, -0.48902821, -0.48589342,\n",
       "       -0.48275862, -0.47962382, -0.47648903, -0.47335423, -0.47021944,\n",
       "       -0.46708464, -0.46394984, -0.46081505, -0.45768025, -0.45454545,\n",
       "       -0.45141066, -0.44827586, -0.44514107, -0.44200627, -0.43887147,\n",
       "       -0.43573668, -0.43260188, -0.42946708, -0.42633229, -0.42319749,\n",
       "       -0.4200627 , -0.4169279 , -0.4137931 , -0.41065831, -0.40752351,\n",
       "       -0.40438871, -0.40125392, -0.39811912, -0.39498433, -0.39184953,\n",
       "       -0.38871473, -0.38557994, -0.38244514, -0.37931034, -0.37617555,\n",
       "       -0.37304075, -0.36990596, -0.36677116, -0.36363636, -0.36050157,\n",
       "       -0.35736677, -0.35423197, -0.35109718, -0.34796238, -0.34482759,\n",
       "       -0.34169279, -0.33855799, -0.3354232 , -0.3322884 , -0.32915361,\n",
       "       -0.32601881, -0.32288401, -0.31974922, -0.31661442, -0.31347962,\n",
       "       -0.31034483, -0.30721003, -0.30407524, -0.30094044, -0.29780564,\n",
       "       -0.29467085, -0.29153605, -0.28840125, -0.28526646, -0.28213166,\n",
       "       -0.27899687, -0.27586207, -0.27272727, -0.26959248, -0.26645768,\n",
       "       -0.26332288, -0.26018809, -0.25705329, -0.2539185 , -0.2507837 ,\n",
       "       -0.2476489 , -0.24451411, -0.24137931, -0.23824451, -0.23510972,\n",
       "       -0.23197492, -0.22884013, -0.22570533, -0.22257053, -0.21943574,\n",
       "       -0.21630094, -0.21316614, -0.21003135, -0.20689655, -0.20376176,\n",
       "       -0.20062696, -0.19749216, -0.19435737, -0.19122257, -0.18808777,\n",
       "       -0.18495298, -0.18181818, -0.17868339, -0.17554859, -0.17241379,\n",
       "       -0.169279  , -0.1661442 , -0.1630094 , -0.15987461, -0.15673981,\n",
       "       -0.15360502, -0.15047022, -0.14733542, -0.14420063, -0.14106583,\n",
       "       -0.13793103, -0.13479624, -0.13166144, -0.12852665, -0.12539185,\n",
       "       -0.12225705, -0.11912226, -0.11598746, -0.11285266, -0.10971787,\n",
       "       -0.10658307, -0.10344828, -0.10031348, -0.09717868, -0.09404389,\n",
       "       -0.09090909, -0.08777429, -0.0846395 , -0.0815047 , -0.07836991,\n",
       "       -0.07523511, -0.07210031, -0.06896552, -0.06583072, -0.06269592,\n",
       "       -0.05956113, -0.05642633, -0.05329154, -0.05015674, -0.04702194,\n",
       "       -0.04388715, -0.04075235, -0.03761755, -0.03448276, -0.03134796,\n",
       "       -0.02821317, -0.02507837, -0.02194357, -0.01880878, -0.01567398,\n",
       "       -0.01253918, -0.00940439, -0.00626959, -0.0031348 ])"
      ]
     },
     "execution_count": 10,
     "metadata": {},
     "output_type": "execute_result"
    }
   ],
   "source": [
    "freq = np.fft.fftfreq(n,1)\n",
    "freq"
   ]
  },
  {
   "cell_type": "markdown",
   "metadata": {},
   "source": [
    "## True theoretical fft"
   ]
  },
  {
   "cell_type": "code",
   "execution_count": 13,
   "metadata": {},
   "outputs": [
    {
     "data": {
      "text/plain": [
       "array([ 0.        ,  6.92360063, 11.88672999, 25.30572096,  9.70695156,\n",
       "       11.79455028, 17.09140835,  7.06640382,  4.10512885,  2.23262647,\n",
       "        3.60756669,  6.6006785 ,  4.60528869,  3.46099125,  1.31130565,\n",
       "        9.25607274,  0.22683963,  5.34708919,  2.02750541,  5.31543966,\n",
       "        2.78027872,  7.71222758,  3.27434474,  8.11494377,  8.15268129,\n",
       "        6.63046965,  7.30989573, 21.51675555,  7.23203692, 47.54555338,\n",
       "       28.53777369,  3.16443112, 31.23567589,  4.89388471,  7.99924984,\n",
       "        4.29507211,  9.46858369,  5.27313646, 13.06148743, 11.72111535,\n",
       "        5.46906964,  4.1953163 ,  4.36835902,  4.8915031 ,  3.44943595,\n",
       "        3.92644215,  1.54997872,  2.97905967,  2.04809073,  1.11863907,\n",
       "        1.9513007 ,  1.1139193 ,  1.71417206,  2.57130144,  3.92841539,\n",
       "        4.22966369,  6.86014076,  1.71243451,  7.82679857,  3.41276187,\n",
       "        2.50842966,  5.09684501,  4.60836408,  0.35325432,  3.16982609,\n",
       "        0.81938402,  4.99211209,  2.30868034,  2.88875784,  1.70165529,\n",
       "        2.67596099,  1.59809076,  1.42689139,  2.73597702,  3.17867923,\n",
       "        1.74641627,  2.18231453,  1.2823282 ,  2.63313754,  0.64837292,\n",
       "        1.92046591,  2.07083046,  1.84554556,  1.07710277,  0.26233107,\n",
       "        1.94333506,  0.44100954,  2.30700499,  2.63147378,  1.3265997 ,\n",
       "        0.21497661,  1.77409121,  1.15817936,  2.0089337 ,  0.40842375,\n",
       "        0.7992514 ,  0.11990455,  1.11771009,  2.06659575,  1.63910902,\n",
       "        3.20956041,  1.24845024,  1.08001666,  1.65068943,  0.82460515,\n",
       "        0.25813249,  0.15792268,  0.06078004,  1.27148534,  0.98240105,\n",
       "        1.23038435,  1.26617791,  1.30840662,  0.4914731 ,  2.2074468 ,\n",
       "        1.05676798,  1.43036904,  0.65426122,  1.02510833,  0.72334694,\n",
       "        0.98335228,  0.84072681,  1.01221927,  0.19844917,  0.47992908,\n",
       "        0.41355209,  1.14037142,  0.29286618,  1.68920554,  1.6720719 ,\n",
       "        0.30245391,  0.10282739,  1.30476415,  0.18750521,  1.43418849,\n",
       "        1.59784493,  1.27994889,  1.04938891,  2.21278398,  1.12978278,\n",
       "        0.52369325,  0.83525323,  0.83906323,  1.22510195,  0.93761974,\n",
       "        1.25507157,  0.16813523,  1.6728026 ,  0.25346899,  1.34113833,\n",
       "        1.63814516,  1.28413445,  0.30928542,  1.41157626,  0.61375164,\n",
       "        1.29945838,  1.16109802,  1.23533409,  1.17901556,  0.07318895,\n",
       "        0.07318895,  1.17901556,  1.23533409,  1.16109802,  1.29945838,\n",
       "        0.61375164,  1.41157626,  0.30928542,  1.28413445,  1.63814516,\n",
       "        1.34113833,  0.25346899,  1.6728026 ,  0.16813523,  1.25507157,\n",
       "        0.93761974,  1.22510195,  0.83906323,  0.83525323,  0.52369325,\n",
       "        1.12978278,  2.21278398,  1.04938891,  1.27994889,  1.59784493,\n",
       "        1.43418849,  0.18750521,  1.30476415,  0.10282739,  0.30245391,\n",
       "        1.6720719 ,  1.68920554,  0.29286618,  1.14037142,  0.41355209,\n",
       "        0.47992908,  0.19844917,  1.01221927,  0.84072681,  0.98335228,\n",
       "        0.72334694,  1.02510833,  0.65426122,  1.43036904,  1.05676798,\n",
       "        2.2074468 ,  0.4914731 ,  1.30840662,  1.26617791,  1.23038435,\n",
       "        0.98240105,  1.27148534,  0.06078004,  0.15792268,  0.25813249,\n",
       "        0.82460515,  1.65068943,  1.08001666,  1.24845024,  3.20956041,\n",
       "        1.63910902,  2.06659575,  1.11771009,  0.11990455,  0.7992514 ,\n",
       "        0.40842375,  2.0089337 ,  1.15817936,  1.77409121,  0.21497661,\n",
       "        1.3265997 ,  2.63147378,  2.30700499,  0.44100954,  1.94333506,\n",
       "        0.26233107,  1.07710277,  1.84554556,  2.07083046,  1.92046591,\n",
       "        0.64837292,  2.63313754,  1.2823282 ,  2.18231453,  1.74641627,\n",
       "        3.17867923,  2.73597702,  1.42689139,  1.59809076,  2.67596099,\n",
       "        1.70165529,  2.88875784,  2.30868034,  4.99211209,  0.81938402,\n",
       "        3.16982609,  0.35325432,  4.60836408,  5.09684501,  2.50842966,\n",
       "        3.41276187,  7.82679857,  1.71243451,  6.86014076,  4.22966369,\n",
       "        3.92841539,  2.57130144,  1.71417206,  1.1139193 ,  1.9513007 ,\n",
       "        1.11863907,  2.04809073,  2.97905967,  1.54997872,  3.92644215,\n",
       "        3.44943595,  4.8915031 ,  4.36835902,  4.1953163 ,  5.46906964,\n",
       "       11.72111535, 13.06148743,  5.27313646,  9.46858369,  4.29507211,\n",
       "        7.99924984,  4.89388471, 31.23567589,  3.16443112, 28.53777369,\n",
       "       47.54555338,  7.23203692, 21.51675555,  7.30989573,  6.63046965,\n",
       "        8.15268129,  8.11494377,  3.27434474,  7.71222758,  2.78027872,\n",
       "        5.31543966,  2.02750541,  5.34708919,  0.22683963,  9.25607274,\n",
       "        1.31130565,  3.46099125,  4.60528869,  6.6006785 ,  3.60756669,\n",
       "        2.23262647,  4.10512885,  7.06640382, 17.09140835, 11.79455028,\n",
       "        9.70695156, 25.30572096, 11.88672999,  6.92360063])"
      ]
     },
     "execution_count": 13,
     "metadata": {},
     "output_type": "execute_result"
    }
   ],
   "source": [
    "fft_theoretical = 2*np.abs(A/n)\n",
    "fft_theoretical[0] = 0 #ignoring 0 hZ because it seems to be an outliner\n",
    "fft_theoretical"
   ]
  },
  {
   "cell_type": "markdown",
   "metadata": {},
   "source": [
    "## Filtering Frequencies"
   ]
  },
  {
   "cell_type": "code",
   "execution_count": 14,
   "metadata": {},
   "outputs": [
    {
     "data": {
      "text/plain": [
       "array([False,  True,  True,  True,  True,  True,  True,  True,  True,\n",
       "        True,  True,  True,  True,  True,  True,  True,  True,  True,\n",
       "        True,  True,  True,  True,  True,  True,  True,  True,  True,\n",
       "        True,  True,  True,  True,  True,  True,  True,  True,  True,\n",
       "        True,  True,  True,  True,  True,  True,  True,  True,  True,\n",
       "        True,  True,  True,  True,  True,  True,  True,  True,  True,\n",
       "        True,  True,  True,  True,  True,  True,  True,  True,  True,\n",
       "        True,  True,  True,  True,  True,  True,  True,  True,  True,\n",
       "        True,  True,  True,  True,  True,  True,  True,  True,  True,\n",
       "        True,  True,  True,  True,  True,  True,  True,  True,  True,\n",
       "        True,  True,  True,  True,  True,  True,  True,  True,  True,\n",
       "        True,  True,  True,  True,  True,  True,  True,  True,  True,\n",
       "        True,  True,  True,  True,  True,  True,  True,  True,  True,\n",
       "        True,  True,  True,  True,  True,  True,  True,  True,  True,\n",
       "        True,  True,  True,  True,  True,  True,  True,  True,  True,\n",
       "        True,  True,  True,  True,  True,  True,  True,  True,  True,\n",
       "        True,  True,  True,  True,  True,  True,  True,  True,  True,\n",
       "        True,  True,  True,  True,  True,  True,  True, False, False,\n",
       "       False, False, False, False, False, False, False, False, False,\n",
       "       False, False, False, False, False, False, False, False, False,\n",
       "       False, False, False, False, False, False, False, False, False,\n",
       "       False, False, False, False, False, False, False, False, False,\n",
       "       False, False, False, False, False, False, False, False, False,\n",
       "       False, False, False, False, False, False, False, False, False,\n",
       "       False, False, False, False, False, False, False, False, False,\n",
       "       False, False, False, False, False, False, False, False, False,\n",
       "       False, False, False, False, False, False, False, False, False,\n",
       "       False, False, False, False, False, False, False, False, False,\n",
       "       False, False, False, False, False, False, False, False, False,\n",
       "       False, False, False, False, False, False, False, False, False,\n",
       "       False, False, False, False, False, False, False, False, False,\n",
       "       False, False, False, False, False, False, False, False, False,\n",
       "       False, False, False, False, False, False, False, False, False,\n",
       "       False, False, False, False, False, False, False, False, False,\n",
       "       False, False, False, False, False, False, False, False, False,\n",
       "       False, False, False, False])"
      ]
     },
     "execution_count": 14,
     "metadata": {},
     "output_type": "execute_result"
    }
   ],
   "source": [
    "mask = freq>0\n",
    "mask"
   ]
  },
  {
   "cell_type": "markdown",
   "metadata": {},
   "source": [
    "## Time domain Representation\n"
   ]
  },
  {
   "cell_type": "code",
   "execution_count": 15,
   "metadata": {},
   "outputs": [
    {
     "data": {
      "image/png": "[encoded data removed]",
      "text/plain": [
       "<Figure size 432x288 with 1 Axes>"
      ]
     },
     "metadata": {
      "needs_background": "light"
     },
     "output_type": "display_data"
    }
   ],
   "source": [
    "plt.figure(1)  ## Time domain representation\n",
    "plt.plot(earthquake_data.Year, earthquake_data.Sunspots)\n",
    "plt.xlabel('Year',fontsize=15)\n",
    "plt.ylabel('Sunspots',fontsize=15)\n",
    "plt.title('Time domain representation ',fontsize=25)\n",
    "plt.show()\n"
   ]
  },
  {
   "cell_type": "markdown",
   "metadata": {},
   "source": [
    "## Frequency Domain Represntation"
   ]
  },
  {
   "cell_type": "code",
   "execution_count": 16,
   "metadata": {},
   "outputs": [
    {
     "data": {
      "image/png": "[encoded data removed]",
      "text/plain": [
       "<Figure size 432x288 with 1 Axes>"
      ]
     },
     "metadata": {
      "needs_background": "light"
     },
     "output_type": "display_data"
    }
   ],
   "source": [
    "plt.figure(1)  ## Frequency domain representation\n",
    "plt.plot(freq[mask], fft_theoretical[mask])  ## Frequency domain representation \n",
    "plt.xlim([0, 0.4])\n",
    "plt.xlabel('Sample Frequencies',fontsize=15)\n",
    "plt.ylabel('Amplitude',fontsize=15)\n",
    "plt.title('Frequency domain representation ',fontsize=25)\n",
    "plt.show()"
   ]
  },
  {
   "cell_type": "code",
   "execution_count": 1,
   "metadata": {},
   "outputs": [
    {
     "name": "stdout",
     "output_type": "stream",
     "text": [
      "....Done\n"
     ]
    }
   ],
   "source": [
    "print(\"....Done\")"
   ]
  }
 ],
 "metadata": {
  "kernelspec": {
   "display_name": "Python 3.9.7 64-bit",
   "language": "python",
   "name": "python3"
  },
  "language_info": {
   "codemirror_mode": {
    "name": "ipython",
    "version": 3
   },
   "file_extension": ".py",
   "mimetype": "text/x-python",
   "name": "python",
   "nbconvert_exporter": "python",
   "pygments_lexer": "ipython3",
   "version": "3.9.7"
  },
  "orig_nbformat": 4,
  "vscode": {
   "interpreter": {
    "hash": "abf1be7b3443b7639c967dba7f4787a0b29748a11f57d45bc865d3374dc817dc"
   }
  }
 },
 "nbformat": 4,
 "nbformat_minor": 2
}
